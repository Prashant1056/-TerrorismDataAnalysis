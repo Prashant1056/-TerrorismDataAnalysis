{
 "cells": [
  {
   "cell_type": "markdown",
   "id": "fd51e00d",
   "metadata": {},
   "source": [
    "![](5.png)"
   ]
  },
  {
   "cell_type": "code",
   "execution_count": 1,
   "id": "bedf95fd",
   "metadata": {},
   "outputs": [],
   "source": [
    "import pandas as pd\n",
    "# Use for data-analysis.\n",
    "# Use for importing data with different file formats like excel files etc.\n",
    "# Provide us varries data manupulation operations such as merging, reshaping, selecting & data cleaning."
   ]
  },
  {
   "cell_type": "code",
   "execution_count": 2,
   "id": "a52b3ad7",
   "metadata": {},
   "outputs": [],
   "source": [
    "import matplotlib.pyplot as plt\n",
    "# Use for visualizing plots specially 2-D plots."
   ]
  },
  {
   "cell_type": "code",
   "execution_count": 3,
   "id": "f6fda07c",
   "metadata": {},
   "outputs": [],
   "source": [
    "import seaborn as sns\n",
    "# Use for statisical graphing plotting & make graph attractive."
   ]
  },
  {
   "cell_type": "code",
   "execution_count": 4,
   "id": "ad95cef8",
   "metadata": {},
   "outputs": [],
   "source": [
    "import numpy as np\n",
    "# It means numerical python.\n",
    "# It helps in creating multi-dimensional array objects.\n",
    "# It helps in doing varries mathematical & logical operations."
   ]
  },
  {
   "cell_type": "code",
   "execution_count": 5,
   "id": "9092cb09",
   "metadata": {},
   "outputs": [],
   "source": [
    "import time\n",
    "# Time module helps in representing time in different manner like time as objects, number & string.\n",
    "# Can be use as watting during time execution.\n",
    "# Can be use for measuring the efficency of the code."
   ]
  },
  {
   "cell_type": "code",
   "execution_count": 6,
   "id": "db8a45e4",
   "metadata": {},
   "outputs": [],
   "source": [
    "from IPython.display import clear_output\n",
    "# IPython.display ~ It provide an comprehensive enviornment for intractive and exploratory computing.\n",
    "# clear_output ~ Use for clearing the output."
   ]
  },
  {
   "cell_type": "code",
   "execution_count": 7,
   "id": "6e44759a",
   "metadata": {},
   "outputs": [],
   "source": [
    "%matplotlib inline\n",
    "# Used in jupyter to plot graphs. "
   ]
  },
  {
   "cell_type": "code",
   "execution_count": 8,
   "id": "340b4a7d",
   "metadata": {},
   "outputs": [],
   "source": [
    "import warnings\n",
    "warnings.filterwarnings('ignore')\n",
    "# For ignoring warning coming in the code. "
   ]
  },
  {
   "cell_type": "code",
   "execution_count": 9,
   "id": "594c3949",
   "metadata": {},
   "outputs": [],
   "source": [
    "terrorism=pd.read_csv('globalterrorismdb.csv',encoding='ISO-8859-1',low_memory=False)\n",
    "# For reading the csv file."
   ]
  },
  {
   "cell_type": "code",
   "execution_count": 10,
   "id": "f750293c",
   "metadata": {},
   "outputs": [
    {
     "name": "stdout",
     "output_type": "stream",
     "text": [
      "<class 'pandas.core.frame.DataFrame'>\n",
      "RangeIndex: 209706 entries, 0 to 209705\n",
      "Columns: 135 entries, eventid to related\n",
      "dtypes: float64(54), int64(23), object(58)\n",
      "memory usage: 216.0+ MB\n"
     ]
    }
   ],
   "source": [
    "terrorism.info()\n",
    "# General information of data."
   ]
  },
  {
   "cell_type": "code",
   "execution_count": 11,
   "id": "fa92025c",
   "metadata": {},
   "outputs": [
    {
     "data": {
      "text/html": [
       "<div>\n",
       "<style scoped>\n",
       "    .dataframe tbody tr th:only-of-type {\n",
       "        vertical-align: middle;\n",
       "    }\n",
       "\n",
       "    .dataframe tbody tr th {\n",
       "        vertical-align: top;\n",
       "    }\n",
       "\n",
       "    .dataframe thead th {\n",
       "        text-align: right;\n",
       "    }\n",
       "</style>\n",
       "<table border=\"1\" class=\"dataframe\">\n",
       "  <thead>\n",
       "    <tr style=\"text-align: right;\">\n",
       "      <th></th>\n",
       "      <th>eventid</th>\n",
       "      <th>iyear</th>\n",
       "      <th>imonth</th>\n",
       "      <th>iday</th>\n",
       "      <th>approxdate</th>\n",
       "      <th>extended</th>\n",
       "      <th>resolution</th>\n",
       "      <th>country</th>\n",
       "      <th>country_txt</th>\n",
       "      <th>region</th>\n",
       "      <th>...</th>\n",
       "      <th>addnotes</th>\n",
       "      <th>scite1</th>\n",
       "      <th>scite2</th>\n",
       "      <th>scite3</th>\n",
       "      <th>dbsource</th>\n",
       "      <th>INT_LOG</th>\n",
       "      <th>INT_IDEO</th>\n",
       "      <th>INT_MISC</th>\n",
       "      <th>INT_ANY</th>\n",
       "      <th>related</th>\n",
       "    </tr>\n",
       "  </thead>\n",
       "  <tbody>\n",
       "    <tr>\n",
       "      <th>0</th>\n",
       "      <td>197000000001</td>\n",
       "      <td>1970</td>\n",
       "      <td>7</td>\n",
       "      <td>2</td>\n",
       "      <td>NaN</td>\n",
       "      <td>0</td>\n",
       "      <td>NaN</td>\n",
       "      <td>58</td>\n",
       "      <td>Dominican Republic</td>\n",
       "      <td>2</td>\n",
       "      <td>...</td>\n",
       "      <td>NaN</td>\n",
       "      <td>NaN</td>\n",
       "      <td>NaN</td>\n",
       "      <td>NaN</td>\n",
       "      <td>PGIS</td>\n",
       "      <td>0</td>\n",
       "      <td>0</td>\n",
       "      <td>0</td>\n",
       "      <td>0</td>\n",
       "      <td>NaN</td>\n",
       "    </tr>\n",
       "    <tr>\n",
       "      <th>1</th>\n",
       "      <td>197000000002</td>\n",
       "      <td>1970</td>\n",
       "      <td>0</td>\n",
       "      <td>0</td>\n",
       "      <td>NaN</td>\n",
       "      <td>0</td>\n",
       "      <td>NaN</td>\n",
       "      <td>130</td>\n",
       "      <td>Mexico</td>\n",
       "      <td>1</td>\n",
       "      <td>...</td>\n",
       "      <td>NaN</td>\n",
       "      <td>NaN</td>\n",
       "      <td>NaN</td>\n",
       "      <td>NaN</td>\n",
       "      <td>PGIS</td>\n",
       "      <td>0</td>\n",
       "      <td>1</td>\n",
       "      <td>1</td>\n",
       "      <td>1</td>\n",
       "      <td>NaN</td>\n",
       "    </tr>\n",
       "    <tr>\n",
       "      <th>2</th>\n",
       "      <td>197001000001</td>\n",
       "      <td>1970</td>\n",
       "      <td>1</td>\n",
       "      <td>0</td>\n",
       "      <td>NaN</td>\n",
       "      <td>0</td>\n",
       "      <td>NaN</td>\n",
       "      <td>160</td>\n",
       "      <td>Philippines</td>\n",
       "      <td>5</td>\n",
       "      <td>...</td>\n",
       "      <td>NaN</td>\n",
       "      <td>NaN</td>\n",
       "      <td>NaN</td>\n",
       "      <td>NaN</td>\n",
       "      <td>PGIS</td>\n",
       "      <td>-9</td>\n",
       "      <td>-9</td>\n",
       "      <td>1</td>\n",
       "      <td>1</td>\n",
       "      <td>NaN</td>\n",
       "    </tr>\n",
       "    <tr>\n",
       "      <th>3</th>\n",
       "      <td>197001000002</td>\n",
       "      <td>1970</td>\n",
       "      <td>1</td>\n",
       "      <td>0</td>\n",
       "      <td>NaN</td>\n",
       "      <td>0</td>\n",
       "      <td>NaN</td>\n",
       "      <td>78</td>\n",
       "      <td>Greece</td>\n",
       "      <td>8</td>\n",
       "      <td>...</td>\n",
       "      <td>NaN</td>\n",
       "      <td>NaN</td>\n",
       "      <td>NaN</td>\n",
       "      <td>NaN</td>\n",
       "      <td>PGIS</td>\n",
       "      <td>-9</td>\n",
       "      <td>-9</td>\n",
       "      <td>1</td>\n",
       "      <td>1</td>\n",
       "      <td>NaN</td>\n",
       "    </tr>\n",
       "    <tr>\n",
       "      <th>4</th>\n",
       "      <td>197001000003</td>\n",
       "      <td>1970</td>\n",
       "      <td>1</td>\n",
       "      <td>0</td>\n",
       "      <td>NaN</td>\n",
       "      <td>0</td>\n",
       "      <td>NaN</td>\n",
       "      <td>101</td>\n",
       "      <td>Japan</td>\n",
       "      <td>4</td>\n",
       "      <td>...</td>\n",
       "      <td>NaN</td>\n",
       "      <td>NaN</td>\n",
       "      <td>NaN</td>\n",
       "      <td>NaN</td>\n",
       "      <td>PGIS</td>\n",
       "      <td>-9</td>\n",
       "      <td>-9</td>\n",
       "      <td>1</td>\n",
       "      <td>1</td>\n",
       "      <td>NaN</td>\n",
       "    </tr>\n",
       "  </tbody>\n",
       "</table>\n",
       "<p>5 rows × 135 columns</p>\n",
       "</div>"
      ],
      "text/plain": [
       "        eventid  iyear  imonth  iday approxdate  extended resolution  country  \\\n",
       "0  197000000001   1970       7     2        NaN         0        NaN       58   \n",
       "1  197000000002   1970       0     0        NaN         0        NaN      130   \n",
       "2  197001000001   1970       1     0        NaN         0        NaN      160   \n",
       "3  197001000002   1970       1     0        NaN         0        NaN       78   \n",
       "4  197001000003   1970       1     0        NaN         0        NaN      101   \n",
       "\n",
       "          country_txt  region  ... addnotes scite1 scite2  scite3  dbsource  \\\n",
       "0  Dominican Republic       2  ...      NaN    NaN    NaN     NaN      PGIS   \n",
       "1              Mexico       1  ...      NaN    NaN    NaN     NaN      PGIS   \n",
       "2         Philippines       5  ...      NaN    NaN    NaN     NaN      PGIS   \n",
       "3              Greece       8  ...      NaN    NaN    NaN     NaN      PGIS   \n",
       "4               Japan       4  ...      NaN    NaN    NaN     NaN      PGIS   \n",
       "\n",
       "   INT_LOG  INT_IDEO INT_MISC INT_ANY  related  \n",
       "0        0         0        0       0      NaN  \n",
       "1        0         1        1       1      NaN  \n",
       "2       -9        -9        1       1      NaN  \n",
       "3       -9        -9        1       1      NaN  \n",
       "4       -9        -9        1       1      NaN  \n",
       "\n",
       "[5 rows x 135 columns]"
      ]
     },
     "execution_count": 11,
     "metadata": {},
     "output_type": "execute_result"
    }
   ],
   "source": [
    "terrorism.head()\n",
    "# To display the top 5 rows."
   ]
  },
  {
   "cell_type": "code",
   "execution_count": 12,
   "id": "c71c2d0f",
   "metadata": {},
   "outputs": [],
   "source": [
    "terrorism.rename(columns={'eventid':'Eventid', 'iyear':'Year', 'imonth':'Month', 'iday':'Day', \n",
    "                          'extended':'Extended', 'resolution':'Resolution',  'attacktype1_txt':'Attacktype', \n",
    "                          'country_txt':'Country', 'region_txt':'Region', 'provstate': 'Provstate', \n",
    "                          'city':'City', 'crit1':'Crit1', 'crit2':'Crit2', \n",
    "                          'crit3':'Crit3', 'multiple':'Multiple', 'success':'Success', 'suicide':'Suicide', \n",
    "                          'targtype1_txt':'Targtype', 'natlty1_txt':'Natlty1', 'natlty2_txt':'Natlty2', \n",
    "                          'natlty3_txt':'Natlty3', 'gname':'Gname', 'gname2':'Gname2', 'gname3':'Gname3', \n",
    "                          'guncertain1':'Guncertain1', 'guncertain2':'Guncertain2', 'guncertain3':'Guncertain3', \n",
    "                          'claimed':'Claimed', 'weaptype1_txt':'Weaptype', 'weapsubtype1_txt':'Weapsubtype', \n",
    "                          'nkill':'Nkill', 'nkillus':'Nkillus', 'nkillter':'Nkillter', 'nwound':'Nwound', \n",
    "                          'nwoundus':'Nwoundus', 'nwoundte':'Nwoundter', 'property':'Property', \n",
    "                          'propextent_txt':'Propextent', 'propvalue':'Propvalue', 'ishostkid':'Ishostkid', \n",
    "                          'nhostkid':'Nhostkid', 'nhostkidus':'Nhostkidus', 'ransom':'Ransom', \n",
    "                          'hostkidoutcome':'Hostkidoutcome', 'nreleased':'Nreleased'},inplace=True)\n",
    "\n",
    "#Keep 20 columns\n",
    "data = terrorism[['Eventid', 'Year','Country', 'Region', 'Provstate', 'City', 'Crit1', 'Crit2', 'Crit3', \n",
    "                  'Success', 'Suicide', 'Attacktype', 'Targtype', 'Natlty1','Gname', 'Guncertain1', \n",
    "                  'Claimed', 'Weaptype', 'Nkill','Nwound']]\n"
   ]
  },
  {
   "cell_type": "code",
   "execution_count": 13,
   "id": "c1fe6ea4",
   "metadata": {},
   "outputs": [
    {
     "data": {
      "text/html": [
       "<div>\n",
       "<style scoped>\n",
       "    .dataframe tbody tr th:only-of-type {\n",
       "        vertical-align: middle;\n",
       "    }\n",
       "\n",
       "    .dataframe tbody tr th {\n",
       "        vertical-align: top;\n",
       "    }\n",
       "\n",
       "    .dataframe thead th {\n",
       "        text-align: right;\n",
       "    }\n",
       "</style>\n",
       "<table border=\"1\" class=\"dataframe\">\n",
       "  <thead>\n",
       "    <tr style=\"text-align: right;\">\n",
       "      <th></th>\n",
       "      <th>Eventid</th>\n",
       "      <th>Year</th>\n",
       "      <th>Country</th>\n",
       "      <th>Region</th>\n",
       "      <th>Provstate</th>\n",
       "      <th>City</th>\n",
       "      <th>Crit1</th>\n",
       "      <th>Crit2</th>\n",
       "      <th>Crit3</th>\n",
       "      <th>Success</th>\n",
       "      <th>Suicide</th>\n",
       "      <th>Attacktype</th>\n",
       "      <th>Targtype</th>\n",
       "      <th>Natlty1</th>\n",
       "      <th>Gname</th>\n",
       "      <th>Guncertain1</th>\n",
       "      <th>Claimed</th>\n",
       "      <th>Weaptype</th>\n",
       "      <th>Nkill</th>\n",
       "      <th>Nwound</th>\n",
       "    </tr>\n",
       "  </thead>\n",
       "  <tbody>\n",
       "    <tr>\n",
       "      <th>0</th>\n",
       "      <td>197000000001</td>\n",
       "      <td>1970</td>\n",
       "      <td>Dominican Republic</td>\n",
       "      <td>Central America &amp; Caribbean</td>\n",
       "      <td>National</td>\n",
       "      <td>Santo Domingo</td>\n",
       "      <td>1</td>\n",
       "      <td>1</td>\n",
       "      <td>1</td>\n",
       "      <td>1</td>\n",
       "      <td>0</td>\n",
       "      <td>Assassination</td>\n",
       "      <td>Private Citizens &amp; Property</td>\n",
       "      <td>Dominican Republic</td>\n",
       "      <td>MANO-D</td>\n",
       "      <td>0.0</td>\n",
       "      <td>NaN</td>\n",
       "      <td>Unknown</td>\n",
       "      <td>1.0</td>\n",
       "      <td>0.0</td>\n",
       "    </tr>\n",
       "    <tr>\n",
       "      <th>1</th>\n",
       "      <td>197000000002</td>\n",
       "      <td>1970</td>\n",
       "      <td>Mexico</td>\n",
       "      <td>North America</td>\n",
       "      <td>Federal</td>\n",
       "      <td>Mexico city</td>\n",
       "      <td>1</td>\n",
       "      <td>1</td>\n",
       "      <td>1</td>\n",
       "      <td>1</td>\n",
       "      <td>0</td>\n",
       "      <td>Hostage Taking (Kidnapping)</td>\n",
       "      <td>Government (Diplomatic)</td>\n",
       "      <td>Belgium</td>\n",
       "      <td>23rd of September Communist League</td>\n",
       "      <td>0.0</td>\n",
       "      <td>NaN</td>\n",
       "      <td>Unknown</td>\n",
       "      <td>0.0</td>\n",
       "      <td>0.0</td>\n",
       "    </tr>\n",
       "    <tr>\n",
       "      <th>2</th>\n",
       "      <td>197001000001</td>\n",
       "      <td>1970</td>\n",
       "      <td>Philippines</td>\n",
       "      <td>Southeast Asia</td>\n",
       "      <td>Tarlac</td>\n",
       "      <td>Unknown</td>\n",
       "      <td>1</td>\n",
       "      <td>1</td>\n",
       "      <td>1</td>\n",
       "      <td>1</td>\n",
       "      <td>0</td>\n",
       "      <td>Assassination</td>\n",
       "      <td>Journalists &amp; Media</td>\n",
       "      <td>United States</td>\n",
       "      <td>Unknown</td>\n",
       "      <td>0.0</td>\n",
       "      <td>NaN</td>\n",
       "      <td>Unknown</td>\n",
       "      <td>1.0</td>\n",
       "      <td>0.0</td>\n",
       "    </tr>\n",
       "    <tr>\n",
       "      <th>3</th>\n",
       "      <td>197001000002</td>\n",
       "      <td>1970</td>\n",
       "      <td>Greece</td>\n",
       "      <td>Western Europe</td>\n",
       "      <td>Attica</td>\n",
       "      <td>Athens</td>\n",
       "      <td>1</td>\n",
       "      <td>1</td>\n",
       "      <td>1</td>\n",
       "      <td>1</td>\n",
       "      <td>0</td>\n",
       "      <td>Bombing/Explosion</td>\n",
       "      <td>Government (Diplomatic)</td>\n",
       "      <td>United States</td>\n",
       "      <td>Unknown</td>\n",
       "      <td>0.0</td>\n",
       "      <td>NaN</td>\n",
       "      <td>Explosives</td>\n",
       "      <td>NaN</td>\n",
       "      <td>NaN</td>\n",
       "    </tr>\n",
       "    <tr>\n",
       "      <th>4</th>\n",
       "      <td>197001000003</td>\n",
       "      <td>1970</td>\n",
       "      <td>Japan</td>\n",
       "      <td>East Asia</td>\n",
       "      <td>Fukouka</td>\n",
       "      <td>Fukouka</td>\n",
       "      <td>1</td>\n",
       "      <td>1</td>\n",
       "      <td>1</td>\n",
       "      <td>1</td>\n",
       "      <td>0</td>\n",
       "      <td>Facility/Infrastructure Attack</td>\n",
       "      <td>Government (Diplomatic)</td>\n",
       "      <td>United States</td>\n",
       "      <td>Unknown</td>\n",
       "      <td>0.0</td>\n",
       "      <td>NaN</td>\n",
       "      <td>Incendiary</td>\n",
       "      <td>NaN</td>\n",
       "      <td>NaN</td>\n",
       "    </tr>\n",
       "  </tbody>\n",
       "</table>\n",
       "</div>"
      ],
      "text/plain": [
       "        Eventid  Year             Country                       Region  \\\n",
       "0  197000000001  1970  Dominican Republic  Central America & Caribbean   \n",
       "1  197000000002  1970              Mexico                North America   \n",
       "2  197001000001  1970         Philippines               Southeast Asia   \n",
       "3  197001000002  1970              Greece               Western Europe   \n",
       "4  197001000003  1970               Japan                    East Asia   \n",
       "\n",
       "  Provstate           City  Crit1  Crit2  Crit3  Success  Suicide  \\\n",
       "0  National  Santo Domingo      1      1      1        1        0   \n",
       "1   Federal    Mexico city      1      1      1        1        0   \n",
       "2    Tarlac        Unknown      1      1      1        1        0   \n",
       "3    Attica         Athens      1      1      1        1        0   \n",
       "4   Fukouka        Fukouka      1      1      1        1        0   \n",
       "\n",
       "                       Attacktype                     Targtype  \\\n",
       "0                   Assassination  Private Citizens & Property   \n",
       "1     Hostage Taking (Kidnapping)      Government (Diplomatic)   \n",
       "2                   Assassination          Journalists & Media   \n",
       "3               Bombing/Explosion      Government (Diplomatic)   \n",
       "4  Facility/Infrastructure Attack      Government (Diplomatic)   \n",
       "\n",
       "              Natlty1                               Gname  Guncertain1  \\\n",
       "0  Dominican Republic                              MANO-D          0.0   \n",
       "1             Belgium  23rd of September Communist League          0.0   \n",
       "2       United States                             Unknown          0.0   \n",
       "3       United States                             Unknown          0.0   \n",
       "4       United States                             Unknown          0.0   \n",
       "\n",
       "   Claimed    Weaptype  Nkill  Nwound  \n",
       "0      NaN     Unknown    1.0     0.0  \n",
       "1      NaN     Unknown    0.0     0.0  \n",
       "2      NaN     Unknown    1.0     0.0  \n",
       "3      NaN  Explosives    NaN     NaN  \n",
       "4      NaN  Incendiary    NaN     NaN  "
      ]
     },
     "execution_count": 13,
     "metadata": {},
     "output_type": "execute_result"
    }
   ],
   "source": [
    "data.head()\n",
    "# Displaying top 5 rows."
   ]
  },
  {
   "cell_type": "code",
   "execution_count": 14,
   "id": "fc25f5ef",
   "metadata": {},
   "outputs": [
    {
     "data": {
      "text/html": [
       "<div>\n",
       "<style scoped>\n",
       "    .dataframe tbody tr th:only-of-type {\n",
       "        vertical-align: middle;\n",
       "    }\n",
       "\n",
       "    .dataframe tbody tr th {\n",
       "        vertical-align: top;\n",
       "    }\n",
       "\n",
       "    .dataframe thead th {\n",
       "        text-align: right;\n",
       "    }\n",
       "</style>\n",
       "<table border=\"1\" class=\"dataframe\">\n",
       "  <thead>\n",
       "    <tr style=\"text-align: right;\">\n",
       "      <th></th>\n",
       "      <th>Eventid</th>\n",
       "      <th>Year</th>\n",
       "      <th>Country</th>\n",
       "      <th>Region</th>\n",
       "      <th>Provstate</th>\n",
       "      <th>City</th>\n",
       "      <th>Crit1</th>\n",
       "      <th>Crit2</th>\n",
       "      <th>Crit3</th>\n",
       "      <th>Success</th>\n",
       "      <th>Suicide</th>\n",
       "      <th>Attacktype</th>\n",
       "      <th>Targtype</th>\n",
       "      <th>Natlty1</th>\n",
       "      <th>Gname</th>\n",
       "      <th>Guncertain1</th>\n",
       "      <th>Claimed</th>\n",
       "      <th>Weaptype</th>\n",
       "      <th>Nkill</th>\n",
       "      <th>Nwound</th>\n",
       "    </tr>\n",
       "  </thead>\n",
       "  <tbody>\n",
       "    <tr>\n",
       "      <th>209701</th>\n",
       "      <td>202012310015</td>\n",
       "      <td>2020</td>\n",
       "      <td>Yemen</td>\n",
       "      <td>Middle East &amp; North Africa</td>\n",
       "      <td>Al Hudaydah</td>\n",
       "      <td>Sabaa</td>\n",
       "      <td>1</td>\n",
       "      <td>1</td>\n",
       "      <td>1</td>\n",
       "      <td>1</td>\n",
       "      <td>0</td>\n",
       "      <td>Bombing/Explosion</td>\n",
       "      <td>Private Citizens &amp; Property</td>\n",
       "      <td>Yemen</td>\n",
       "      <td>Houthi extremists (Ansar Allah)</td>\n",
       "      <td>0.0</td>\n",
       "      <td>0.0</td>\n",
       "      <td>Explosives</td>\n",
       "      <td>NaN</td>\n",
       "      <td>NaN</td>\n",
       "    </tr>\n",
       "    <tr>\n",
       "      <th>209702</th>\n",
       "      <td>202012310016</td>\n",
       "      <td>2020</td>\n",
       "      <td>Yemen</td>\n",
       "      <td>Middle East &amp; North Africa</td>\n",
       "      <td>Al Hudaydah</td>\n",
       "      <td>Beit Maghari</td>\n",
       "      <td>1</td>\n",
       "      <td>1</td>\n",
       "      <td>1</td>\n",
       "      <td>1</td>\n",
       "      <td>0</td>\n",
       "      <td>Bombing/Explosion</td>\n",
       "      <td>Private Citizens &amp; Property</td>\n",
       "      <td>Yemen</td>\n",
       "      <td>Houthi extremists (Ansar Allah)</td>\n",
       "      <td>0.0</td>\n",
       "      <td>0.0</td>\n",
       "      <td>Explosives</td>\n",
       "      <td>NaN</td>\n",
       "      <td>NaN</td>\n",
       "    </tr>\n",
       "    <tr>\n",
       "      <th>209703</th>\n",
       "      <td>202012310017</td>\n",
       "      <td>2020</td>\n",
       "      <td>Germany</td>\n",
       "      <td>Western Europe</td>\n",
       "      <td>Lower Saxony</td>\n",
       "      <td>Leipzig</td>\n",
       "      <td>1</td>\n",
       "      <td>1</td>\n",
       "      <td>0</td>\n",
       "      <td>1</td>\n",
       "      <td>0</td>\n",
       "      <td>Facility/Infrastructure Attack</td>\n",
       "      <td>Military</td>\n",
       "      <td>Germany</td>\n",
       "      <td>Left-wing extremists</td>\n",
       "      <td>0.0</td>\n",
       "      <td>1.0</td>\n",
       "      <td>Incendiary</td>\n",
       "      <td>0.0</td>\n",
       "      <td>0.0</td>\n",
       "    </tr>\n",
       "    <tr>\n",
       "      <th>209704</th>\n",
       "      <td>202012310018</td>\n",
       "      <td>2020</td>\n",
       "      <td>Afghanistan</td>\n",
       "      <td>South Asia</td>\n",
       "      <td>Kabul</td>\n",
       "      <td>Kabul</td>\n",
       "      <td>1</td>\n",
       "      <td>1</td>\n",
       "      <td>1</td>\n",
       "      <td>1</td>\n",
       "      <td>0</td>\n",
       "      <td>Armed Assault</td>\n",
       "      <td>Private Citizens &amp; Property</td>\n",
       "      <td>Afghanistan</td>\n",
       "      <td>Unknown</td>\n",
       "      <td>0.0</td>\n",
       "      <td>0.0</td>\n",
       "      <td>Firearms</td>\n",
       "      <td>1.0</td>\n",
       "      <td>0.0</td>\n",
       "    </tr>\n",
       "    <tr>\n",
       "      <th>209705</th>\n",
       "      <td>202012310019</td>\n",
       "      <td>2020</td>\n",
       "      <td>Burkina Faso</td>\n",
       "      <td>Sub-Saharan Africa</td>\n",
       "      <td>Sahel</td>\n",
       "      <td>Kelbo</td>\n",
       "      <td>1</td>\n",
       "      <td>1</td>\n",
       "      <td>0</td>\n",
       "      <td>1</td>\n",
       "      <td>0</td>\n",
       "      <td>Armed Assault</td>\n",
       "      <td>Military</td>\n",
       "      <td>Burkina Faso</td>\n",
       "      <td>Unknown</td>\n",
       "      <td>0.0</td>\n",
       "      <td>0.0</td>\n",
       "      <td>Firearms</td>\n",
       "      <td>5.0</td>\n",
       "      <td>0.0</td>\n",
       "    </tr>\n",
       "  </tbody>\n",
       "</table>\n",
       "</div>"
      ],
      "text/plain": [
       "             Eventid  Year       Country                      Region  \\\n",
       "209701  202012310015  2020         Yemen  Middle East & North Africa   \n",
       "209702  202012310016  2020         Yemen  Middle East & North Africa   \n",
       "209703  202012310017  2020       Germany              Western Europe   \n",
       "209704  202012310018  2020   Afghanistan                  South Asia   \n",
       "209705  202012310019  2020  Burkina Faso          Sub-Saharan Africa   \n",
       "\n",
       "           Provstate          City  Crit1  Crit2  Crit3  Success  Suicide  \\\n",
       "209701   Al Hudaydah         Sabaa      1      1      1        1        0   \n",
       "209702   Al Hudaydah  Beit Maghari      1      1      1        1        0   \n",
       "209703  Lower Saxony       Leipzig      1      1      0        1        0   \n",
       "209704         Kabul         Kabul      1      1      1        1        0   \n",
       "209705         Sahel         Kelbo      1      1      0        1        0   \n",
       "\n",
       "                            Attacktype                     Targtype  \\\n",
       "209701               Bombing/Explosion  Private Citizens & Property   \n",
       "209702               Bombing/Explosion  Private Citizens & Property   \n",
       "209703  Facility/Infrastructure Attack                     Military   \n",
       "209704                   Armed Assault  Private Citizens & Property   \n",
       "209705                   Armed Assault                     Military   \n",
       "\n",
       "             Natlty1                            Gname  Guncertain1  Claimed  \\\n",
       "209701         Yemen  Houthi extremists (Ansar Allah)          0.0      0.0   \n",
       "209702         Yemen  Houthi extremists (Ansar Allah)          0.0      0.0   \n",
       "209703       Germany             Left-wing extremists          0.0      1.0   \n",
       "209704   Afghanistan                          Unknown          0.0      0.0   \n",
       "209705  Burkina Faso                          Unknown          0.0      0.0   \n",
       "\n",
       "          Weaptype  Nkill  Nwound  \n",
       "209701  Explosives    NaN     NaN  \n",
       "209702  Explosives    NaN     NaN  \n",
       "209703  Incendiary    0.0     0.0  \n",
       "209704    Firearms    1.0     0.0  \n",
       "209705    Firearms    5.0     0.0  "
      ]
     },
     "execution_count": 14,
     "metadata": {},
     "output_type": "execute_result"
    }
   ],
   "source": [
    "data.tail()\n",
    "# Display last 5 rows by default usig tail."
   ]
  },
  {
   "cell_type": "code",
   "execution_count": 15,
   "id": "cb2b4c18",
   "metadata": {},
   "outputs": [
    {
     "name": "stdout",
     "output_type": "stream",
     "text": [
      "Country with the highest number of terrorist Attacks: Iraq\n"
     ]
    }
   ],
   "source": [
    "print('Country with the highest number of terrorist Attacks:',data['Country'].value_counts().index[0])\n",
    "# For displaying the Max Frequency of value attacks of country column so that's why we have written index 0.  "
   ]
  },
  {
   "cell_type": "code",
   "execution_count": 16,
   "id": "1d1d976e",
   "metadata": {},
   "outputs": [
    {
     "data": {
      "text/plain": [
       "Iraq                 27521\n",
       "Afghanistan          18920\n",
       "Pakistan             15504\n",
       "India                13929\n",
       "Colombia              8915\n",
       "                     ...  \n",
       "Andorra                  1\n",
       "International            1\n",
       "Falkland Islands         1\n",
       "North Korea              1\n",
       "Wallis and Futuna        1\n",
       "Name: Country, Length: 204, dtype: int64"
      ]
     },
     "execution_count": 16,
     "metadata": {},
     "output_type": "execute_result"
    }
   ],
   "source": [
    "data['Country'].value_counts()\n",
    "# For counting the values of country attacks."
   ]
  },
  {
   "cell_type": "code",
   "execution_count": 17,
   "id": "8fcbafc7",
   "metadata": {},
   "outputs": [
    {
     "name": "stdout",
     "output_type": "stream",
     "text": [
      "Region with the highest number of Terrorist Attacks: Middle East & North Africa\n"
     ]
    }
   ],
   "source": [
    "print('Region with the highest number of Terrorist Attacks:',data['Region'].value_counts().index[0])\n",
    "# For displaying the Max Frequency of value attacks of Region column."
   ]
  },
  {
   "cell_type": "code",
   "execution_count": 18,
   "id": "bf212a40",
   "metadata": {},
   "outputs": [
    {
     "name": "stdout",
     "output_type": "stream",
     "text": [
      "Maximum number of people were killed by a single terrorist attack are 1700.0\n"
     ]
    }
   ],
   "source": [
    "print('Maximum number of people were killed by a single terrorist attack are',data['Nkill'].max())\n",
    "# Max no of death in one single attack."
   ]
  },
  {
   "cell_type": "code",
   "execution_count": 19,
   "id": "67ebd6ac",
   "metadata": {},
   "outputs": [],
   "source": [
    "data['Damage']=data['Nkill']+data['Nwound']\n",
    "# Created damage people by combining."
   ]
  },
  {
   "cell_type": "code",
   "execution_count": 20,
   "id": "5e13e4de",
   "metadata": {},
   "outputs": [
    {
     "data": {
      "text/plain": [
       "0         1.0\n",
       "1         0.0\n",
       "2         1.0\n",
       "3         NaN\n",
       "4         NaN\n",
       "         ... \n",
       "209701    NaN\n",
       "209702    NaN\n",
       "209703    0.0\n",
       "209704    1.0\n",
       "209705    5.0\n",
       "Name: Damage, Length: 209706, dtype: float64"
      ]
     },
     "execution_count": 20,
     "metadata": {},
     "output_type": "execute_result"
    }
   ],
   "source": [
    "data['Damage']"
   ]
  },
  {
   "cell_type": "code",
   "execution_count": 21,
   "id": "6bcb4c7f",
   "metadata": {},
   "outputs": [],
   "source": [
    "data['Country']=data['Country'].replace('South Veitnam','Veitnam',regex=True)\n",
    "# Generallizing; is true is written to use regular expression."
   ]
  },
  {
   "cell_type": "code",
   "execution_count": 22,
   "id": "9e505ad8",
   "metadata": {},
   "outputs": [],
   "source": [
    "data['Weaptype']=data['Weaptype'].replace('Vehicle .*','Vehicle',regex=True)"
   ]
  },
  {
   "cell_type": "code",
   "execution_count": 23,
   "id": "73c95dc0",
   "metadata": {},
   "outputs": [],
   "source": [
    "data['Attacktype']=data['Attacktype'].replace('Hostage Taking .*','Hostage Taking',regex=True)"
   ]
  },
  {
   "cell_type": "code",
   "execution_count": 24,
   "id": "adc75334",
   "metadata": {},
   "outputs": [],
   "source": [
    "atk_filtered=data['Attacktype'].apply(lambda x:x if x in ['Bombing/Explosion','Armed Assault','Assassination',\n",
    "                                                          'Hostage Taking','Facility/Infrastructure Attack'] else 'Others')\n",
    "# Checking anything present from the list or not. "
   ]
  },
  {
   "cell_type": "code",
   "execution_count": 25,
   "id": "8e28f72f",
   "metadata": {},
   "outputs": [],
   "source": [
    "attack_type=atk_filtered.value_counts().tolist()\n",
    "# Counting values & then creating the list of that values."
   ]
  },
  {
   "cell_type": "code",
   "execution_count": 26,
   "id": "c42ea075",
   "metadata": {},
   "outputs": [
    {
     "data": {
      "text/plain": [
       "[98158, 49553, 21539, 15201, 12930, 12325]"
      ]
     },
     "execution_count": 26,
     "metadata": {},
     "output_type": "execute_result"
    }
   ],
   "source": [
    "attack_type\n",
    "# Created list of values."
   ]
  },
  {
   "cell_type": "code",
   "execution_count": 27,
   "id": "f700d83e",
   "metadata": {},
   "outputs": [],
   "source": [
    "labels=['Bombing/Explosion','Armed Assault','Assassination','Hostage Taking','Facility/Infrastructure Attack','Others']"
   ]
  },
  {
   "cell_type": "code",
   "execution_count": 28,
   "id": "bb6e8143",
   "metadata": {},
   "outputs": [],
   "source": [
    "sizes=[]"
   ]
  },
  {
   "cell_type": "code",
   "execution_count": 29,
   "id": "e19494f9",
   "metadata": {},
   "outputs": [],
   "source": [
    "for i in attack_type:\n",
    "    percent=(i*100)/len(data['Attacktype'])\n",
    "    sizes.append(percent)\n",
    "# For storing percentage."
   ]
  },
  {
   "cell_type": "code",
   "execution_count": 30,
   "id": "624f051c",
   "metadata": {},
   "outputs": [
    {
     "data": {
      "image/png": "[encoded data removed]",
      "text/plain": [
       "<Figure size 720x720 with 1 Axes>"
      ]
     },
     "metadata": {},
     "output_type": "display_data"
    }
   ],
   "source": [
    "fig,ax=plt.subplots(figsize=(10,10))\n",
    "patches,texts,autotexts=ax.pie(sizes,labels=labels,autopct='%1.1f%%',startangle=-20,\n",
    "                              shadow=True,explode=(0.05,0,0,0,0,0),\n",
    "                              colors=sns.color_palette('Set2',8)[:5]+\n",
    "                              [(0.58,0.64,0.65)],\n",
    "                              textprops={'fontsize':15,'weight':'light','color':'k'})\n",
    "ax.axis('equal')\n",
    "plt.title('Terrorist attack types',fontsize=25,pad=-70,\n",
    "         color=sns.cubehelix_palette(8,start=.5,rot=-.75)[-3])\n",
    "plt.tight_layout()\n",
    "ax.legend(loc='lower right',framealpha=0.5,bbox_to_anchor=(1.8,0.5,0.1,1),\n",
    "         prop={'size':14})\n",
    "fig.show()\n",
    "\n",
    "# For checking how parameters are working in 1st part.\n",
    "# For plotting pie chart with different colors for different fragments in 2nd part."
   ]
  },
  {
   "cell_type": "code",
   "execution_count": 31,
   "id": "2f2d170a",
   "metadata": {},
   "outputs": [],
   "source": [
    "cat=['Bombing/Explosion','Armed Assault','Assassination','Hostage Taking','Facility/Infrastructure Attack']"
   ]
  },
  {
   "cell_type": "code",
   "execution_count": 32,
   "id": "27bde480",
   "metadata": {},
   "outputs": [],
   "source": [
    "color_cat=sns.color_palette('Set2',8)[:5]"
   ]
  },
  {
   "cell_type": "code",
   "execution_count": 33,
   "id": "f0cc2399",
   "metadata": {},
   "outputs": [],
   "source": [
    "color_cat_dict=dict(zip(cat,color_cat))"
   ]
  },
  {
   "cell_type": "code",
   "execution_count": 34,
   "id": "e729de18",
   "metadata": {},
   "outputs": [],
   "source": [
    "table1=data[['Attacktype','Damage']].groupby('Attacktype',as_index=False).sum().sort_values(by='Damage',ascending=False)\n",
    "# Here we are grouping 2 columns using grouby & then sort the data using damage where higher number come up as we assign false to ascend."
   ]
  },
  {
   "cell_type": "code",
   "execution_count": 35,
   "id": "866402dc",
   "metadata": {},
   "outputs": [],
   "source": [
    "table1=table1.reset_index()"
   ]
  },
  {
   "cell_type": "code",
   "execution_count": 36,
   "id": "235446f4",
   "metadata": {},
   "outputs": [],
   "source": [
    "inci=[8825,42669,7276,19312,12149,659,1015,10356]\n",
    "# Incident which happens."
   ]
  },
  {
   "cell_type": "code",
   "execution_count": 37,
   "id": "a40bfad0",
   "metadata": {},
   "outputs": [],
   "source": [
    "table1['Incidents']=np.array(inci)\n",
    "# Saving incident in tablular form."
   ]
  },
  {
   "cell_type": "code",
   "execution_count": 38,
   "id": "dfd434e8",
   "metadata": {},
   "outputs": [],
   "source": [
    "table1['Damage rate']=table1['Damage']/table1['Incidents']"
   ]
  },
  {
   "cell_type": "code",
   "execution_count": 39,
   "id": "ba72935f",
   "metadata": {},
   "outputs": [
    {
     "data": {
      "text/html": [
       "<div>\n",
       "<style scoped>\n",
       "    .dataframe tbody tr th:only-of-type {\n",
       "        vertical-align: middle;\n",
       "    }\n",
       "\n",
       "    .dataframe tbody tr th {\n",
       "        vertical-align: top;\n",
       "    }\n",
       "\n",
       "    .dataframe thead th {\n",
       "        text-align: right;\n",
       "    }\n",
       "</style>\n",
       "<table border=\"1\" class=\"dataframe\">\n",
       "  <thead>\n",
       "    <tr style=\"text-align: right;\">\n",
       "      <th></th>\n",
       "      <th>index</th>\n",
       "      <th>Attacktype</th>\n",
       "      <th>Damage</th>\n",
       "      <th>Incidents</th>\n",
       "      <th>Damage rate</th>\n",
       "    </tr>\n",
       "  </thead>\n",
       "  <tbody>\n",
       "    <tr>\n",
       "      <th>0</th>\n",
       "      <td>2</td>\n",
       "      <td>Bombing/Explosion</td>\n",
       "      <td>558268.0</td>\n",
       "      <td>8825</td>\n",
       "      <td>63.259830</td>\n",
       "    </tr>\n",
       "    <tr>\n",
       "      <th>1</th>\n",
       "      <td>0</td>\n",
       "      <td>Armed Assault</td>\n",
       "      <td>242600.0</td>\n",
       "      <td>42669</td>\n",
       "      <td>5.685627</td>\n",
       "    </tr>\n",
       "    <tr>\n",
       "      <th>2</th>\n",
       "      <td>7</td>\n",
       "      <td>Unknown</td>\n",
       "      <td>60943.0</td>\n",
       "      <td>7276</td>\n",
       "      <td>8.375893</td>\n",
       "    </tr>\n",
       "    <tr>\n",
       "      <th>3</th>\n",
       "      <td>1</td>\n",
       "      <td>Assassination</td>\n",
       "      <td>42083.0</td>\n",
       "      <td>19312</td>\n",
       "      <td>2.179111</td>\n",
       "    </tr>\n",
       "    <tr>\n",
       "      <th>4</th>\n",
       "      <td>5</td>\n",
       "      <td>Hostage Taking</td>\n",
       "      <td>36326.0</td>\n",
       "      <td>12149</td>\n",
       "      <td>2.990040</td>\n",
       "    </tr>\n",
       "    <tr>\n",
       "      <th>5</th>\n",
       "      <td>4</td>\n",
       "      <td>Hijacking</td>\n",
       "      <td>26107.0</td>\n",
       "      <td>659</td>\n",
       "      <td>39.616085</td>\n",
       "    </tr>\n",
       "    <tr>\n",
       "      <th>6</th>\n",
       "      <td>6</td>\n",
       "      <td>Unarmed Assault</td>\n",
       "      <td>15622.0</td>\n",
       "      <td>1015</td>\n",
       "      <td>15.391133</td>\n",
       "    </tr>\n",
       "    <tr>\n",
       "      <th>7</th>\n",
       "      <td>3</td>\n",
       "      <td>Facility/Infrastructure Attack</td>\n",
       "      <td>7447.0</td>\n",
       "      <td>10356</td>\n",
       "      <td>0.719100</td>\n",
       "    </tr>\n",
       "  </tbody>\n",
       "</table>\n",
       "</div>"
      ],
      "text/plain": [
       "   index                      Attacktype    Damage  Incidents  Damage rate\n",
       "0      2               Bombing/Explosion  558268.0       8825    63.259830\n",
       "1      0                   Armed Assault  242600.0      42669     5.685627\n",
       "2      7                         Unknown   60943.0       7276     8.375893\n",
       "3      1                   Assassination   42083.0      19312     2.179111\n",
       "4      5                  Hostage Taking   36326.0      12149     2.990040\n",
       "5      4                       Hijacking   26107.0        659    39.616085\n",
       "6      6                 Unarmed Assault   15622.0       1015    15.391133\n",
       "7      3  Facility/Infrastructure Attack    7447.0      10356     0.719100"
      ]
     },
     "execution_count": 39,
     "metadata": {},
     "output_type": "execute_result"
    }
   ],
   "source": [
    "table1"
   ]
  },
  {
   "cell_type": "code",
   "execution_count": 40,
   "id": "b09ddd44",
   "metadata": {},
   "outputs": [
    {
     "data": {
      "text/plain": [
       "['Bombing/Explosion',\n",
       " 'Armed Assault',\n",
       " 'Unknown',\n",
       " 'Assassination',\n",
       " 'Hostage Taking',\n",
       " 'Hijacking',\n",
       " 'Unarmed Assault',\n",
       " 'Facility/Infrastructure Attack']"
      ]
     },
     "execution_count": 40,
     "metadata": {},
     "output_type": "execute_result"
    }
   ],
   "source": [
    "labels=table1['Attacktype'].tolist()\n",
    "labels\n",
    "# Creating chart of list."
   ]
  },
  {
   "cell_type": "code",
   "execution_count": 41,
   "id": "e0b2832d",
   "metadata": {},
   "outputs": [],
   "source": [
    "x=np.arange(len(labels))"
   ]
  },
  {
   "cell_type": "code",
   "execution_count": 42,
   "id": "d39cff6f",
   "metadata": {},
   "outputs": [],
   "source": [
    "dmg=table1['Damage'].tolist()"
   ]
  },
  {
   "cell_type": "code",
   "execution_count": 43,
   "id": "c336b8c2",
   "metadata": {},
   "outputs": [
    {
     "data": {
      "text/plain": [
       "[558268.0, 242600.0, 60943.0, 42083.0, 36326.0, 26107.0, 15622.0, 7447.0]"
      ]
     },
     "execution_count": 43,
     "metadata": {},
     "output_type": "execute_result"
    }
   ],
   "source": [
    "dmg"
   ]
  },
  {
   "cell_type": "code",
   "execution_count": 44,
   "id": "4a54d33c",
   "metadata": {},
   "outputs": [],
   "source": [
    "gray=(0.5,0.64,0.65)"
   ]
  },
  {
   "cell_type": "code",
   "execution_count": 45,
   "id": "3aec6d48",
   "metadata": {},
   "outputs": [],
   "source": [
    "color_list=[color_cat_dict[ter_type] if\n",
    "            ter_type in color_cat_dict.keys() else gray for ter_type in labels]"
   ]
  },
  {
   "cell_type": "code",
   "execution_count": 46,
   "id": "174c5138",
   "metadata": {},
   "outputs": [
    {
     "data": {
      "text/plain": [
       "[(0.4, 0.7607843137254902, 0.6470588235294118),\n",
       " (0.9882352941176471, 0.5529411764705883, 0.3843137254901961),\n",
       " (0.5, 0.64, 0.65),\n",
       " (0.5529411764705883, 0.6274509803921569, 0.796078431372549),\n",
       " (0.9058823529411765, 0.5411764705882353, 0.7647058823529411),\n",
       " (0.5, 0.64, 0.65),\n",
       " (0.5, 0.64, 0.65),\n",
       " (0.6509803921568628, 0.8470588235294118, 0.32941176470588235)]"
      ]
     },
     "execution_count": 46,
     "metadata": {},
     "output_type": "execute_result"
    }
   ],
   "source": [
    "color_list"
   ]
  },
  {
   "cell_type": "code",
   "execution_count": 47,
   "id": "1147865b",
   "metadata": {},
   "outputs": [],
   "source": [
    "d_rate=table1['Damage rate'].tolist()"
   ]
  },
  {
   "cell_type": "code",
   "execution_count": 48,
   "id": "53cbe356",
   "metadata": {},
   "outputs": [
    {
     "data": {
      "image/png": "[encoded data removed]",
      "text/plain": [
       "<Figure size 1080x576 with 2 Axes>"
      ]
     },
     "metadata": {
      "needs_background": "light"
     },
     "output_type": "display_data"
    }
   ],
   "source": [
    "fig,ax1=plt.subplots(figsize=(15,8))\n",
    "# Bar chart\n",
    "ax1.bar(labels,dmg,color=color_list,align='center')\n",
    "#Number in bar chart\n",
    "for i,v in enumerate(dmg):\n",
    "    ax1.text(i-0.3,v-13000 if v==37209 else v+3000, str(round(v)),color='w' if v==37209 else 'k',fontweight='bold')\n",
    "#insert a second plot -line plot\n",
    "ax2=ax1.twinx()\n",
    "ax2.plot(labels,d_rate,linestyle='--',linewidth=4,marker='o',markerfacecolor='black',markersize='10',\n",
    "        label='Mean of Dead/Injured People',color='#C44D51')\n",
    "plt.title('Terrorist Attack Types and Damage',fontsize=25,pad=20, color=sns.cubehelix_palette(8,start=.5,rot=-.75)[-3])\n",
    "ax1.set(xlabel='Types of Terrorist Attacks',ylabel='Number of Dead/Injured People')\n",
    "ax1.set_xticklabels(labels,rotation=45)\n",
    "plt.yticks(fontsize=10)\n",
    "ax2.legend(loc='upper center')\n",
    "fig.show()"
   ]
  },
  {
   "cell_type": "code",
   "execution_count": 49,
   "id": "a77bd511",
   "metadata": {},
   "outputs": [],
   "source": [
    "table2=data[['Weaptype','Damage']].groupby('Weaptype',as_index=False).sum().sort_values(by='Damage',ascending=False)"
   ]
  },
  {
   "cell_type": "code",
   "execution_count": 50,
   "id": "95d83868",
   "metadata": {},
   "outputs": [],
   "source": [
    "df_count=data['Weaptype'].value_counts()"
   ]
  },
  {
   "cell_type": "code",
   "execution_count": 51,
   "id": "d12bccd9",
   "metadata": {},
   "outputs": [],
   "source": [
    "df_count=df_count.reindex(table2['Weaptype'].values)"
   ]
  },
  {
   "cell_type": "code",
   "execution_count": 52,
   "id": "0fee5ce9",
   "metadata": {},
   "outputs": [
    {
     "data": {
      "text/plain": [
       "Explosives            103475\n",
       "Firearms               67648\n",
       "Unknown                20203\n",
       "Vehicle                  186\n",
       "Melee                   4307\n",
       "Chemical                 347\n",
       "Incendiary             13133\n",
       "Biological                36\n",
       "Sabotage Equipment       187\n",
       "Other                    136\n",
       "Fake Weapons              35\n",
       "Radiological              13\n",
       "Name: Weaptype, dtype: int64"
      ]
     },
     "execution_count": 52,
     "metadata": {},
     "output_type": "execute_result"
    }
   ],
   "source": [
    "df_count"
   ]
  },
  {
   "cell_type": "code",
   "execution_count": 53,
   "id": "ec0d2cd9",
   "metadata": {},
   "outputs": [],
   "source": [
    "table2['WeapCount']=df_count.values"
   ]
  },
  {
   "cell_type": "code",
   "execution_count": 54,
   "id": "cb1fe7bb",
   "metadata": {},
   "outputs": [
    {
     "data": {
      "text/plain": [
       "2     103475\n",
       "4      67648\n",
       "10     20203\n",
       "11       186\n",
       "6       4307\n",
       "1        347\n",
       "5      13133\n",
       "0         36\n",
       "9        187\n",
       "7        136\n",
       "3         35\n",
       "8         13\n",
       "Name: WeapCount, dtype: int64"
      ]
     },
     "execution_count": 54,
     "metadata": {},
     "output_type": "execute_result"
    }
   ],
   "source": [
    "table2['WeapCount']"
   ]
  },
  {
   "cell_type": "code",
   "execution_count": 55,
   "id": "dd2cdf58",
   "metadata": {},
   "outputs": [],
   "source": [
    "table2['Weap_damage_rate']=table2['Damage']/table2['WeapCount']"
   ]
  },
  {
   "cell_type": "code",
   "execution_count": 56,
   "id": "5dbc7e56",
   "metadata": {},
   "outputs": [
    {
     "data": {
      "text/html": [
       "<div>\n",
       "<style scoped>\n",
       "    .dataframe tbody tr th:only-of-type {\n",
       "        vertical-align: middle;\n",
       "    }\n",
       "\n",
       "    .dataframe tbody tr th {\n",
       "        vertical-align: top;\n",
       "    }\n",
       "\n",
       "    .dataframe thead th {\n",
       "        text-align: right;\n",
       "    }\n",
       "</style>\n",
       "<table border=\"1\" class=\"dataframe\">\n",
       "  <thead>\n",
       "    <tr style=\"text-align: right;\">\n",
       "      <th></th>\n",
       "      <th>Weaptype</th>\n",
       "      <th>Damage</th>\n",
       "      <th>WeapCount</th>\n",
       "      <th>Weap_damage_rate</th>\n",
       "    </tr>\n",
       "  </thead>\n",
       "  <tbody>\n",
       "    <tr>\n",
       "      <th>2</th>\n",
       "      <td>Explosives</td>\n",
       "      <td>589393.0</td>\n",
       "      <td>103475</td>\n",
       "      <td>5.695994</td>\n",
       "    </tr>\n",
       "    <tr>\n",
       "      <th>4</th>\n",
       "      <td>Firearms</td>\n",
       "      <td>257383.0</td>\n",
       "      <td>67648</td>\n",
       "      <td>3.804739</td>\n",
       "    </tr>\n",
       "    <tr>\n",
       "      <th>10</th>\n",
       "      <td>Unknown</td>\n",
       "      <td>73913.0</td>\n",
       "      <td>20203</td>\n",
       "      <td>3.658516</td>\n",
       "    </tr>\n",
       "    <tr>\n",
       "      <th>11</th>\n",
       "      <td>Vehicle</td>\n",
       "      <td>25809.0</td>\n",
       "      <td>186</td>\n",
       "      <td>138.758065</td>\n",
       "    </tr>\n",
       "    <tr>\n",
       "      <th>6</th>\n",
       "      <td>Melee</td>\n",
       "      <td>16185.0</td>\n",
       "      <td>4307</td>\n",
       "      <td>3.757836</td>\n",
       "    </tr>\n",
       "    <tr>\n",
       "      <th>1</th>\n",
       "      <td>Chemical</td>\n",
       "      <td>14874.0</td>\n",
       "      <td>347</td>\n",
       "      <td>42.864553</td>\n",
       "    </tr>\n",
       "    <tr>\n",
       "      <th>5</th>\n",
       "      <td>Incendiary</td>\n",
       "      <td>10390.0</td>\n",
       "      <td>13133</td>\n",
       "      <td>0.791137</td>\n",
       "    </tr>\n",
       "    <tr>\n",
       "      <th>0</th>\n",
       "      <td>Biological</td>\n",
       "      <td>814.0</td>\n",
       "      <td>36</td>\n",
       "      <td>22.611111</td>\n",
       "    </tr>\n",
       "    <tr>\n",
       "      <th>9</th>\n",
       "      <td>Sabotage Equipment</td>\n",
       "      <td>360.0</td>\n",
       "      <td>187</td>\n",
       "      <td>1.925134</td>\n",
       "    </tr>\n",
       "    <tr>\n",
       "      <th>7</th>\n",
       "      <td>Other</td>\n",
       "      <td>274.0</td>\n",
       "      <td>136</td>\n",
       "      <td>2.014706</td>\n",
       "    </tr>\n",
       "    <tr>\n",
       "      <th>3</th>\n",
       "      <td>Fake Weapons</td>\n",
       "      <td>1.0</td>\n",
       "      <td>35</td>\n",
       "      <td>0.028571</td>\n",
       "    </tr>\n",
       "    <tr>\n",
       "      <th>8</th>\n",
       "      <td>Radiological</td>\n",
       "      <td>0.0</td>\n",
       "      <td>13</td>\n",
       "      <td>0.000000</td>\n",
       "    </tr>\n",
       "  </tbody>\n",
       "</table>\n",
       "</div>"
      ],
      "text/plain": [
       "              Weaptype    Damage  WeapCount  Weap_damage_rate\n",
       "2           Explosives  589393.0     103475          5.695994\n",
       "4             Firearms  257383.0      67648          3.804739\n",
       "10             Unknown   73913.0      20203          3.658516\n",
       "11             Vehicle   25809.0        186        138.758065\n",
       "6                Melee   16185.0       4307          3.757836\n",
       "1             Chemical   14874.0        347         42.864553\n",
       "5           Incendiary   10390.0      13133          0.791137\n",
       "0           Biological     814.0         36         22.611111\n",
       "9   Sabotage Equipment     360.0        187          1.925134\n",
       "7                Other     274.0        136          2.014706\n",
       "3         Fake Weapons       1.0         35          0.028571\n",
       "8         Radiological       0.0         13          0.000000"
      ]
     },
     "execution_count": 56,
     "metadata": {},
     "output_type": "execute_result"
    }
   ],
   "source": [
    "table2"
   ]
  },
  {
   "cell_type": "code",
   "execution_count": 57,
   "id": "67dc4dbc",
   "metadata": {},
   "outputs": [
    {
     "data": {
      "text/plain": [
       "['Explosives',\n",
       " 'Firearms',\n",
       " 'Unknown',\n",
       " 'Vehicle',\n",
       " 'Melee',\n",
       " 'Chemical',\n",
       " 'Incendiary',\n",
       " 'Biological',\n",
       " 'Sabotage Equipment',\n",
       " 'Other',\n",
       " 'Fake Weapons',\n",
       " 'Radiological']"
      ]
     },
     "execution_count": 57,
     "metadata": {},
     "output_type": "execute_result"
    }
   ],
   "source": [
    "weaplabels=table2['Weaptype'].tolist()\n",
    "weaplabels"
   ]
  },
  {
   "cell_type": "code",
   "execution_count": 58,
   "id": "5d07ef25",
   "metadata": {},
   "outputs": [],
   "source": [
    "y=np.arange(len(weaplabels))"
   ]
  },
  {
   "cell_type": "code",
   "execution_count": 59,
   "id": "17dc8c38",
   "metadata": {},
   "outputs": [],
   "source": [
    "weapdmg=table2['Damage'].tolist()"
   ]
  },
  {
   "cell_type": "code",
   "execution_count": 60,
   "id": "267b81fb",
   "metadata": {},
   "outputs": [
    {
     "data": {
      "text/plain": [
       "[589393.0,\n",
       " 257383.0,\n",
       " 73913.0,\n",
       " 25809.0,\n",
       " 16185.0,\n",
       " 14874.0,\n",
       " 10390.0,\n",
       " 814.0,\n",
       " 360.0,\n",
       " 274.0,\n",
       " 1.0,\n",
       " 0.0]"
      ]
     },
     "execution_count": 60,
     "metadata": {},
     "output_type": "execute_result"
    }
   ],
   "source": [
    "weapdmg"
   ]
  },
  {
   "cell_type": "code",
   "execution_count": 61,
   "id": "590e66ff",
   "metadata": {},
   "outputs": [],
   "source": [
    "wgray=(0.5,0.64,0.65)"
   ]
  },
  {
   "cell_type": "code",
   "execution_count": 62,
   "id": "e781b2a5",
   "metadata": {},
   "outputs": [],
   "source": [
    "w_cat=['Explosives','Firearms','Unknown','Incendiary']"
   ]
  },
  {
   "cell_type": "code",
   "execution_count": 63,
   "id": "dc78639d",
   "metadata": {},
   "outputs": [],
   "source": [
    "wcolorcat=sns.color_palette('Set2',8)[:4:1]"
   ]
  },
  {
   "cell_type": "code",
   "execution_count": 64,
   "id": "645c23fc",
   "metadata": {},
   "outputs": [],
   "source": [
    "wcolor_cat_dict=dict(zip(w_cat,wcolorcat))"
   ]
  },
  {
   "cell_type": "code",
   "execution_count": 65,
   "id": "490057f9",
   "metadata": {},
   "outputs": [],
   "source": [
    "wcolor_list=[wcolor_cat_dict[ter_type] if\n",
    "            ter_type in wcolor_cat_dict.keys() else wgray for ter_type in weaplabels]"
   ]
  },
  {
   "cell_type": "code",
   "execution_count": 66,
   "id": "9088c2c7",
   "metadata": {},
   "outputs": [],
   "source": [
    "w_rate=table2['Weap_damage_rate'].tolist()"
   ]
  },
  {
   "cell_type": "code",
   "execution_count": 67,
   "id": "7639e241",
   "metadata": {},
   "outputs": [
    {
     "data": {
      "image/png": "[encoded data removed]",
      "text/plain": [
       "<Figure size 1080x576 with 2 Axes>"
      ]
     },
     "metadata": {
      "needs_background": "light"
     },
     "output_type": "display_data"
    }
   ],
   "source": [
    "fig,ax1=plt.subplots(figsize=(15,8))\n",
    "# Bar chart\n",
    "ax1.bar(weaplabels,weapdmg,color=wcolor_list,align='center')\n",
    "#Number in bar chart\n",
    "for i,v in enumerate(weapdmg):\n",
    "    ax1.text(i-0.3,v-13000 if v==37209 else v+3000, str(round(v)),color='w' if v==37209 else 'k',fontweight='bold')\n",
    "#insert a second plot -line plot\n",
    "ax2=ax1.twinx()\n",
    "ax2.plot(weaplabels,w_rate,linestyle='--',linewidth=4,marker='o',markerfacecolor='black',markersize='10',\n",
    "        label='Mean of Dead/Injured People',color='#C44D51')\n",
    "plt.title('Weapon Types and Damage',fontsize=25,pad=20, color=sns.cubehelix_palette(8,start=.5,rot=-.75)[-3])\n",
    "ax1.set(xlabel='Type of Weapons',ylabel='Number of Dead/Injured People')\n",
    "ax1.set_xticklabels(weaplabels,rotation=45)\n",
    "plt.yticks(fontsize=10)\n",
    "ax2.legend(loc='upper center')\n",
    "fig.show()"
   ]
  },
  {
   "cell_type": "code",
   "execution_count": 68,
   "id": "d66a45ea",
   "metadata": {},
   "outputs": [],
   "source": [
    "#Choose column Country and Damage from data\n",
    "country_damage=data[data['Year']>1999][['Country','Damage']].groupby('Country',as_index=False).sum()"
   ]
  },
  {
   "cell_type": "code",
   "execution_count": 69,
   "id": "c035e24a",
   "metadata": {},
   "outputs": [
    {
     "data": {
      "text/html": [
       "<div>\n",
       "<style scoped>\n",
       "    .dataframe tbody tr th:only-of-type {\n",
       "        vertical-align: middle;\n",
       "    }\n",
       "\n",
       "    .dataframe tbody tr th {\n",
       "        vertical-align: top;\n",
       "    }\n",
       "\n",
       "    .dataframe thead th {\n",
       "        text-align: right;\n",
       "    }\n",
       "</style>\n",
       "<table border=\"1\" class=\"dataframe\">\n",
       "  <thead>\n",
       "    <tr style=\"text-align: right;\">\n",
       "      <th></th>\n",
       "      <th>Country</th>\n",
       "      <th>Damage</th>\n",
       "    </tr>\n",
       "  </thead>\n",
       "  <tbody>\n",
       "    <tr>\n",
       "      <th>0</th>\n",
       "      <td>Afghanistan</td>\n",
       "      <td>127207.0</td>\n",
       "    </tr>\n",
       "    <tr>\n",
       "      <th>1</th>\n",
       "      <td>Albania</td>\n",
       "      <td>3.0</td>\n",
       "    </tr>\n",
       "    <tr>\n",
       "      <th>2</th>\n",
       "      <td>Algeria</td>\n",
       "      <td>6766.0</td>\n",
       "    </tr>\n",
       "    <tr>\n",
       "      <th>3</th>\n",
       "      <td>Angola</td>\n",
       "      <td>1791.0</td>\n",
       "    </tr>\n",
       "    <tr>\n",
       "      <th>4</th>\n",
       "      <td>Argentina</td>\n",
       "      <td>12.0</td>\n",
       "    </tr>\n",
       "    <tr>\n",
       "      <th>...</th>\n",
       "      <td>...</td>\n",
       "      <td>...</td>\n",
       "    </tr>\n",
       "    <tr>\n",
       "      <th>166</th>\n",
       "      <td>Western Sahara</td>\n",
       "      <td>3.0</td>\n",
       "    </tr>\n",
       "    <tr>\n",
       "      <th>167</th>\n",
       "      <td>Yemen</td>\n",
       "      <td>23064.0</td>\n",
       "    </tr>\n",
       "    <tr>\n",
       "      <th>168</th>\n",
       "      <td>Yugoslavia</td>\n",
       "      <td>30.0</td>\n",
       "    </tr>\n",
       "    <tr>\n",
       "      <th>169</th>\n",
       "      <td>Zambia</td>\n",
       "      <td>2.0</td>\n",
       "    </tr>\n",
       "    <tr>\n",
       "      <th>170</th>\n",
       "      <td>Zimbabwe</td>\n",
       "      <td>142.0</td>\n",
       "    </tr>\n",
       "  </tbody>\n",
       "</table>\n",
       "<p>171 rows × 2 columns</p>\n",
       "</div>"
      ],
      "text/plain": [
       "            Country    Damage\n",
       "0       Afghanistan  127207.0\n",
       "1           Albania       3.0\n",
       "2           Algeria    6766.0\n",
       "3            Angola    1791.0\n",
       "4         Argentina      12.0\n",
       "..              ...       ...\n",
       "166  Western Sahara       3.0\n",
       "167           Yemen   23064.0\n",
       "168      Yugoslavia      30.0\n",
       "169          Zambia       2.0\n",
       "170        Zimbabwe     142.0\n",
       "\n",
       "[171 rows x 2 columns]"
      ]
     },
     "execution_count": 69,
     "metadata": {},
     "output_type": "execute_result"
    }
   ],
   "source": [
    "country_damage"
   ]
  },
  {
   "cell_type": "code",
   "execution_count": 70,
   "id": "266fe6a4",
   "metadata": {},
   "outputs": [],
   "source": [
    "data_paint=country_damage.sort_values(by='Damage',ascending=False).head(10)"
   ]
  },
  {
   "cell_type": "code",
   "execution_count": 71,
   "id": "3c2c2609",
   "metadata": {},
   "outputs": [
    {
     "data": {
      "text/html": [
       "<div>\n",
       "<style scoped>\n",
       "    .dataframe tbody tr th:only-of-type {\n",
       "        vertical-align: middle;\n",
       "    }\n",
       "\n",
       "    .dataframe tbody tr th {\n",
       "        vertical-align: top;\n",
       "    }\n",
       "\n",
       "    .dataframe thead th {\n",
       "        text-align: right;\n",
       "    }\n",
       "</style>\n",
       "<table border=\"1\" class=\"dataframe\">\n",
       "  <thead>\n",
       "    <tr style=\"text-align: right;\">\n",
       "      <th></th>\n",
       "      <th>Country</th>\n",
       "      <th>Damage</th>\n",
       "    </tr>\n",
       "  </thead>\n",
       "  <tbody>\n",
       "    <tr>\n",
       "      <th>71</th>\n",
       "      <td>Iraq</td>\n",
       "      <td>208643.0</td>\n",
       "    </tr>\n",
       "    <tr>\n",
       "      <th>0</th>\n",
       "      <td>Afghanistan</td>\n",
       "      <td>127207.0</td>\n",
       "    </tr>\n",
       "    <tr>\n",
       "      <th>114</th>\n",
       "      <td>Pakistan</td>\n",
       "      <td>59117.0</td>\n",
       "    </tr>\n",
       "    <tr>\n",
       "      <th>67</th>\n",
       "      <td>India</td>\n",
       "      <td>29947.0</td>\n",
       "    </tr>\n",
       "    <tr>\n",
       "      <th>112</th>\n",
       "      <td>Nigeria</td>\n",
       "      <td>27598.0</td>\n",
       "    </tr>\n",
       "    <tr>\n",
       "      <th>160</th>\n",
       "      <td>United States</td>\n",
       "      <td>27283.0</td>\n",
       "    </tr>\n",
       "    <tr>\n",
       "      <th>146</th>\n",
       "      <td>Syria</td>\n",
       "      <td>26302.0</td>\n",
       "    </tr>\n",
       "    <tr>\n",
       "      <th>167</th>\n",
       "      <td>Yemen</td>\n",
       "      <td>23064.0</td>\n",
       "    </tr>\n",
       "    <tr>\n",
       "      <th>135</th>\n",
       "      <td>Somalia</td>\n",
       "      <td>20578.0</td>\n",
       "    </tr>\n",
       "    <tr>\n",
       "      <th>119</th>\n",
       "      <td>Philippines</td>\n",
       "      <td>14273.0</td>\n",
       "    </tr>\n",
       "  </tbody>\n",
       "</table>\n",
       "</div>"
      ],
      "text/plain": [
       "           Country    Damage\n",
       "71            Iraq  208643.0\n",
       "0      Afghanistan  127207.0\n",
       "114       Pakistan   59117.0\n",
       "67           India   29947.0\n",
       "112        Nigeria   27598.0\n",
       "160  United States   27283.0\n",
       "146          Syria   26302.0\n",
       "167          Yemen   23064.0\n",
       "135        Somalia   20578.0\n",
       "119    Philippines   14273.0"
      ]
     },
     "execution_count": 71,
     "metadata": {},
     "output_type": "execute_result"
    }
   ],
   "source": [
    "data_paint"
   ]
  },
  {
   "cell_type": "code",
   "execution_count": 72,
   "id": "bcbc5594",
   "metadata": {},
   "outputs": [
    {
     "data": {
      "image/png": "[encoded data removed]",
      "text/plain": [
       "<Figure size 864x432 with 1 Axes>"
      ]
     },
     "metadata": {
      "needs_background": "light"
     },
     "output_type": "display_data"
    }
   ],
   "source": [
    "fig,ax=plt.subplots(figsize=(12,6))\n",
    "ax.barh(data_paint['Country'][::-1],data_paint['Damage'][::-1],color='red')\n",
    "plt.xticks(rotation=-45)\n",
    "ax.set_ylabel('Countries',size=16)\n",
    "ax.set_xlabel('Number of Dead/Injured People',size=16)\n",
    "plt.title('Top 10 Attacked Countries From 2000 To 2011',fontsize=20,pad=10,color=sns.cubehelix_palette(8,start=.5,rot=-.75)[-3])\n",
    "plt.show()"
   ]
  },
  {
   "cell_type": "code",
   "execution_count": 73,
   "id": "4848bf40",
   "metadata": {},
   "outputs": [],
   "source": [
    "#Choose column Country and Damage from data\n",
    "nalty_dmg=data[data['Year']>1999][['Natlty1','Damage']].groupby('Natlty1',as_index=False).sum()"
   ]
  },
  {
   "cell_type": "code",
   "execution_count": 74,
   "id": "253372a4",
   "metadata": {},
   "outputs": [
    {
     "data": {
      "text/plain": [
       "0         Dominican Republic\n",
       "1                    Belgium\n",
       "2              United States\n",
       "3              United States\n",
       "4              United States\n",
       "                 ...        \n",
       "209701                 Yemen\n",
       "209702                 Yemen\n",
       "209703               Germany\n",
       "209704           Afghanistan\n",
       "209705          Burkina Faso\n",
       "Name: Natlty1, Length: 209706, dtype: object"
      ]
     },
     "execution_count": 74,
     "metadata": {},
     "output_type": "execute_result"
    }
   ],
   "source": [
    "data['Natlty1']"
   ]
  },
  {
   "cell_type": "code",
   "execution_count": 75,
   "id": "a07fa3f1",
   "metadata": {},
   "outputs": [],
   "source": [
    "data_paint_natly=nalty_dmg.sort_values(by='Damage',ascending=False).head(10)"
   ]
  },
  {
   "cell_type": "code",
   "execution_count": 76,
   "id": "f14cb6ce",
   "metadata": {},
   "outputs": [
    {
     "data": {
      "image/png": "[encoded data removed]",
      "text/plain": [
       "<Figure size 864x432 with 1 Axes>"
      ]
     },
     "metadata": {
      "needs_background": "light"
     },
     "output_type": "display_data"
    }
   ],
   "source": [
    "fig,ax=plt.subplots(figsize=(12,6))\n",
    "ax.barh(data_paint_natly['Natlty1'][::-1],data_paint['Damage'][::-1],color='blue')\n",
    "plt.xticks(rotation=-45)\n",
    "ax.set_ylabel('Nationality',size=16)\n",
    "ax.set_xlabel('Number of Dead/Injured People',size=16)\n",
    "plt.title('Top 10 Targeted Nationalities From 2000 To 2011',fontsize=20,pad=10,color=sns.cubehelix_palette(8,start=.5,rot=-.75)[-3])\n",
    "plt.show()"
   ]
  },
  {
   "cell_type": "code",
   "execution_count": 77,
   "id": "4ff8b841",
   "metadata": {},
   "outputs": [
    {
     "data": {
      "text/html": [
       "<div>\n",
       "<style scoped>\n",
       "    .dataframe tbody tr th:only-of-type {\n",
       "        vertical-align: middle;\n",
       "    }\n",
       "\n",
       "    .dataframe tbody tr th {\n",
       "        vertical-align: top;\n",
       "    }\n",
       "\n",
       "    .dataframe thead th {\n",
       "        text-align: right;\n",
       "    }\n",
       "</style>\n",
       "<table border=\"1\" class=\"dataframe\">\n",
       "  <thead>\n",
       "    <tr style=\"text-align: right;\">\n",
       "      <th></th>\n",
       "      <th>Country</th>\n",
       "      <th>Damage</th>\n",
       "    </tr>\n",
       "  </thead>\n",
       "  <tbody>\n",
       "    <tr>\n",
       "      <th>9</th>\n",
       "      <td>Bahamas</td>\n",
       "      <td>0.0</td>\n",
       "    </tr>\n",
       "    <tr>\n",
       "      <th>14</th>\n",
       "      <td>Belize</td>\n",
       "      <td>0.0</td>\n",
       "    </tr>\n",
       "    <tr>\n",
       "      <th>35</th>\n",
       "      <td>Cyprus</td>\n",
       "      <td>0.0</td>\n",
       "    </tr>\n",
       "    <tr>\n",
       "      <th>40</th>\n",
       "      <td>Dominica</td>\n",
       "      <td>0.0</td>\n",
       "    </tr>\n",
       "    <tr>\n",
       "      <th>66</th>\n",
       "      <td>Iceland</td>\n",
       "      <td>0.0</td>\n",
       "    </tr>\n",
       "    <tr>\n",
       "      <th>90</th>\n",
       "      <td>Lithuania</td>\n",
       "      <td>0.0</td>\n",
       "    </tr>\n",
       "    <tr>\n",
       "      <th>108</th>\n",
       "      <td>New Caledonia</td>\n",
       "      <td>0.0</td>\n",
       "    </tr>\n",
       "    <tr>\n",
       "      <th>121</th>\n",
       "      <td>Portugal</td>\n",
       "      <td>0.0</td>\n",
       "    </tr>\n",
       "    <tr>\n",
       "      <th>133</th>\n",
       "      <td>Slovenia</td>\n",
       "      <td>0.0</td>\n",
       "    </tr>\n",
       "    <tr>\n",
       "      <th>143</th>\n",
       "      <td>Swaziland</td>\n",
       "      <td>0.0</td>\n",
       "    </tr>\n",
       "    <tr>\n",
       "      <th>151</th>\n",
       "      <td>Togo</td>\n",
       "      <td>0.0</td>\n",
       "    </tr>\n",
       "  </tbody>\n",
       "</table>\n",
       "</div>"
      ],
      "text/plain": [
       "           Country  Damage\n",
       "9          Bahamas     0.0\n",
       "14          Belize     0.0\n",
       "35          Cyprus     0.0\n",
       "40        Dominica     0.0\n",
       "66         Iceland     0.0\n",
       "90       Lithuania     0.0\n",
       "108  New Caledonia     0.0\n",
       "121       Portugal     0.0\n",
       "133       Slovenia     0.0\n",
       "143      Swaziland     0.0\n",
       "151           Togo     0.0"
      ]
     },
     "execution_count": 77,
     "metadata": {},
     "output_type": "execute_result"
    }
   ],
   "source": [
    "country_damage[country_damage['Damage']==0]"
   ]
  },
  {
   "cell_type": "code",
   "execution_count": 78,
   "id": "3a9592e0",
   "metadata": {},
   "outputs": [
    {
     "data": {
      "text/plain": [
       "11"
      ]
     },
     "execution_count": 78,
     "metadata": {},
     "output_type": "execute_result"
    }
   ],
   "source": [
    "len(country_damage[country_damage['Damage']==0])"
   ]
  },
  {
   "cell_type": "code",
   "execution_count": 79,
   "id": "128750e1",
   "metadata": {},
   "outputs": [],
   "source": [
    "def country_nationality(n):\n",
    "    ''' Function to draw the bar charts of top 10 \n",
    "    Attacked Countries and Top 10 Targeted Nationalities'''\n",
    "    #Filter data and choose top 10 Attacked Counties\n",
    "    top10_bad=data[data['Year']==n][['Country','Damage']].groupby('Country',as_index=False).sum()\n",
    "    data_paint=top10_bad.sort_values(by='Damage',ascending=False).head(10)\n",
    "    fig,ax=plt.subplots(1,2,figsize=(16,4))\n",
    "    ax[0].barh(data_paint['Country'][::-1],data_paint['Damage'][::-1],\n",
    "               color=['red','green','#344650','#df2029','#FFFC00',\n",
    "                     '#E4405F','#3B5999','#00c300','#ff0084'])\n",
    "    ax[0].set_ylabel('Countries',size=16)\n",
    "    ax[0].set_xlabel('Number of Dead/Injured People',size=16)\n",
    "    ax[0].set_title('Top 10 Attacked Countries %d' %n,fontsize=15,pad=10,color=sns.cubehelix_palette(8,start=.5,rot=-.75)[-3])\n",
    "    \n",
    "    plt.subplots_adjust(wspace=0.3)\n",
    "    \n",
    "    #Choose column Country and Damage from data\n",
    "    nalty_dmg=data[data['Year']>1999][['Natlty1','Damage']].groupby('Natlty1',as_index=False).sum()\n",
    "    data_paint_natly=nalty_dmg.sort_values(by='Damage',ascending=False).head(10)\n",
    "    ax[1].barh(data_paint_natly['Natlty1'][::-1],data_paint['Damage'][::-1],color='blue')\n",
    "    ax[1].set_ylabel('Nationality',size=16)\n",
    "    ax[1].set_xlabel('Number of Dead/Injured People',size=16)\n",
    "    ax[1].set_title('Top 10 Targeted Nationalities %d' %n,fontsize=20,pad=10,color=sns.cubehelix_palette(8,start=.5,rot=-.75)[-3])\n",
    "    plt.show()\n",
    "    for ax in fig.axes:\n",
    "        plt.sca(ax)\n",
    "    plt.show()"
   ]
  },
  {
   "cell_type": "code",
   "execution_count": 80,
   "id": "ccd3a94b",
   "metadata": {},
   "outputs": [],
   "source": [
    "list_year=[]\n",
    "for year in range(1970,1993): list_year.append(year)"
   ]
  },
  {
   "cell_type": "code",
   "execution_count": 81,
   "id": "c71de7cb",
   "metadata": {},
   "outputs": [],
   "source": [
    "for year in range(1994,2012): list_year.append(year)"
   ]
  },
  {
   "cell_type": "code",
   "execution_count": 82,
   "id": "c1dccb4e",
   "metadata": {},
   "outputs": [],
   "source": [
    "for year in list_year:\n",
    "    country_nationality(year)\n",
    "    time.sleep(2)\n",
    "    clear_output()"
   ]
  },
  {
   "cell_type": "code",
   "execution_count": 83,
   "id": "8f9ba017",
   "metadata": {},
   "outputs": [],
   "source": [
    "def country_nationality_year():\n",
    "    ''' Function to paint chart with specific input year'''\n",
    "    # Input year. Try if in list year\n",
    "    try:\n",
    "        year=int(input('Input the year you want to see chart! (1970-2011): '))\n",
    "        if year==1993:\n",
    "            print('Sorry, No Terrorism Data in 1993')\n",
    "            year=int(input('Input the year you want to see chart! (1970-2011): '))\n",
    "        while year not in list_year:\n",
    "            print('Please input the year from 1970 to 2011')\n",
    "            year=int(input('Input the year you want to see chart! (1970-2011): '))\n",
    "    except (ValueError,ZeroDivisionError) as ex:\n",
    "        print('Wrong Type, Input Again: ')\n",
    "        country_nationality_year()\n",
    "    else:\n",
    "        country_nationality(year)\n"
   ]
  },
  {
   "cell_type": "code",
   "execution_count": 84,
   "id": "1fa56d07",
   "metadata": {},
   "outputs": [
    {
     "name": "stdout",
     "output_type": "stream",
     "text": [
      "Input the year you want to see chart! (1970-2011): 2000\n"
     ]
    },
    {
     "data": {
      "image/png": "[encoded data removed]",
      "text/plain": [
       "<Figure size 1152x288 with 2 Axes>"
      ]
     },
     "metadata": {
      "needs_background": "light"
     },
     "output_type": "display_data"
    },
    {
     "data": {
      "image/png": "[encoded data removed]",
      "text/plain": [
       "<Figure size 1152x288 with 2 Axes>"
      ]
     },
     "metadata": {
      "needs_background": "light"
     },
     "output_type": "display_data"
    }
   ],
   "source": [
    "country_nationality_year()"
   ]
  },
  {
   "cell_type": "code",
   "execution_count": null,
   "id": "bc9a03d0",
   "metadata": {},
   "outputs": [],
   "source": []
  }
 ],
 "metadata": {
  "kernelspec": {
   "display_name": "Python 3 (ipykernel)",
   "language": "python",
   "name": "python3"
  },
  "language_info": {
   "codemirror_mode": {
    "name": "ipython",
    "version": 3
   },
   "file_extension": ".py",
   "mimetype": "text/x-python",
   "name": "python",
   "nbconvert_exporter": "python",
   "pygments_lexer": "ipython3",
   "version": "3.9.12"
  }
 },
 "nbformat": 4,
 "nbformat_minor": 5
}
